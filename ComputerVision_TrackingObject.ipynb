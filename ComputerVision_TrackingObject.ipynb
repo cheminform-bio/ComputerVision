{
 "cells": [
  {
   "cell_type": "markdown",
   "metadata": {},
   "source": [
    "Tracking Objects in Video with Particle Filters\n",
    "==============================================="
   ]
  },
  {
   "cell_type": "markdown",
   "metadata": {},
   "source": [
    "Import libraries"
   ]
  },
  {
   "cell_type": "code",
   "execution_count": 78,
   "metadata": {},
   "outputs": [],
   "source": [
    "import numpy as np\n",
    "import cv2\n",
    "\n",
    "# Repeatability (cosistent results)\n",
    "np.random.seed(0)\n",
    "\n",
    "# video frame size\n",
    "VFILENAME = \"walking.mp4\"\n",
    "HEIGHT = 406\n",
    "WIDTH = 722"
   ]
  },
  {
   "cell_type": "markdown",
   "metadata": {},
   "source": [
    "Load video frames from file"
   ]
  },
  {
   "cell_type": "code",
   "execution_count": 79,
   "metadata": {},
   "outputs": [],
   "source": [
    "def get_frames(filename):\n",
    "    video = cv2.VideoCapture(filename) # return video capture object\n",
    "    while video.isOpened():\n",
    "        ret,frame = video.read() # read the frame\n",
    "        if ret: \n",
    "            yield frame       # if the flag is valid: iteratively yielding frames \n",
    "        else:\n",
    "            break            # if not good; break the loob and release resources      \n",
    "    video.release()\n",
    "    yield None\n",
    "        "
   ]
  },
  {
   "cell_type": "markdown",
   "metadata": {},
   "source": [
    "Creating a particle cloud"
   ]
  },
  {
   "cell_type": "code",
   "execution_count": 80,
   "metadata": {},
   "outputs": [],
   "source": [
    "# assume number of particles \n",
    "NUM_PARTICLES = 150\n",
    "# velocity range: assume a particle is not moving faster than half a pixel\n",
    "VEL_RANGE = 0.5\n",
    "def initialize_particles():\n",
    "    # create particles array: fill out with random numbers from 0 to 1, one row per particle, 4 columns\n",
    "    particles = np.random.rand(NUM_PARTICLES, 4)\n",
    "    # scale the numbers \n",
    "    particles = particles * np.array( (WIDTH, HEIGHT, VEL_RANGE, VEL_RANGE))\n",
    "    # centered the velocity to 0: shift last two columns a bit \n",
    "    particles[:,2:4] -= VEL_RANGE/2.0\n",
    "    print(particles[:20,:])\n",
    "    return particles"
   ]
  },
  {
   "cell_type": "markdown",
   "metadata": {},
   "source": [
    "Moving particles according to their velocity state"
   ]
  },
  {
   "cell_type": "code",
   "execution_count": 81,
   "metadata": {},
   "outputs": [],
   "source": [
    "def apply_velocity(particles):\n",
    "    # first col increment with x direction velocity component of 3rd col: aka index 2\n",
    "    particles[:,0] += particles[:,2]\n",
    "    # similarly for y \n",
    "    particles[:,1] += particles[:,3]\n",
    "    return particles"
   ]
  },
  {
   "cell_type": "markdown",
   "metadata": {},
   "source": [
    "Prevent particles from falling off the edge of the video frame"
   ]
  },
  {
   "cell_type": "code",
   "execution_count": 82,
   "metadata": {},
   "outputs": [],
   "source": [
    "def enforce_edges(particles):\n",
    "    for i in range(NUM_PARTICLES):\n",
    "        # the new value for x cordinate:set an upper and lower bound\n",
    "        particles[i,0] = max(0, min(WIDTH-1, particles[i,0]))\n",
    "        # similarly for y\n",
    "        particles[i,1] = max(0, min(HEIGHT-1, particles[i,1]))\n",
    "        # now we have cloud of particles clever enoght not to fall off the edge\n",
    "    return particles"
   ]
  },
  {
   "cell_type": "markdown",
   "metadata": {},
   "source": [
    "Measure each particle's quality"
   ]
  },
  {
   "cell_type": "code",
   "execution_count": 83,
   "metadata": {},
   "outputs": [],
   "source": [
    "# color pixels representing the whole target: not to bright not to dark\n",
    "TARGET_COLOUR = np.array((156, 74, 38))\n",
    "\n",
    "def compute_errors(particles, frame):\n",
    "    # create numpy array to store those color differences: fill it with zeros to start with\n",
    "    errors = np.zeros(NUM_PARTICLES)\n",
    "    # loop over all the particles\n",
    "    for i in range(NUM_PARTICLES):\n",
    "        # cast the x, y position to integr\n",
    "        x = int(particles[i,0])\n",
    "        y = int(particles[i,1])\n",
    "        # pull out the pixels values at this position\n",
    "        pixel_colour = frame[y, x, : ]\n",
    "        # single value to represent the colour DIFFERENCE at this pixels: MEAN SQUARE DIFFERENCE\n",
    "        errors[i] = np.sum ( (TARGET_COLOUR - pixel_colour)**2 )\n",
    "    return errors"
   ]
  },
  {
   "cell_type": "markdown",
   "metadata": {},
   "source": [
    "Assign weights to the particles based on their quality of match"
   ]
  },
  {
   "cell_type": "code",
   "execution_count": 84,
   "metadata": {},
   "outputs": [],
   "source": [
    "def compute_weights(errors):\n",
    "    # invert the errors: we want low errors get high weight\n",
    "    weights = np.max(errors) - errors\n",
    "    # prevent the particles from piling up along the edge: set their weight to zero\n",
    "    weights[\n",
    "        # along the left hand edge of the frame\n",
    "         (particles[: , 0] == 0) | \n",
    "        # the right edge of the frame\n",
    "         (particles[:, 0] == WIDTH-1) | \n",
    "        # same for y\n",
    "         (particles[: , 1] == 0) |  \n",
    "        # bottom edge\n",
    "         (particles[:, 1] == HEIGHT-1) \n",
    "    ] = 0.0\n",
    "    weights = weights**4\n",
    "    return weights"
   ]
  },
  {
   "cell_type": "markdown",
   "metadata": {},
   "source": [
    "Resample particles according to their weights"
   ]
  },
  {
   "cell_type": "code",
   "execution_count": 85,
   "metadata": {},
   "outputs": [],
   "source": [
    "def resample(particles, weights):\n",
    "    # normalize the weights to sum 1: use the probability distribution over the particles\n",
    "    probabilities = weights / np.sum(weights)\n",
    "    # resample particles acc to these prob: build new particle array by sampling from the current particles (ones with higher rate will got chosen many times)\n",
    "    index_numbers = np.random.choice(\n",
    "        NUM_PARTICLES, \n",
    "        size=NUM_PARTICLES, \n",
    "        p=probabilities)\n",
    "    # rebuild the particles array acc to these indexes\n",
    "    particles = particles[index_numbers, :]\n",
    "    \n",
    "    # single best guess x,y position: mean over all values\n",
    "    x = np.mean(particles[:,0])\n",
    "    y = np.mean(particles[:,1])\n",
    "    \n",
    "    # return particles array and a tuple of x, y\n",
    "    return particles,(int(x), int(y))"
   ]
  },
  {
   "cell_type": "markdown",
   "metadata": {},
   "source": [
    "Fuzz the particles"
   ]
  },
  {
   "cell_type": "code",
   "execution_count": 86,
   "metadata": {},
   "outputs": [],
   "source": [
    "# specify the standard deviation\n",
    "POS_SIGMA = 1.0\n",
    "VEL_SIGMA = 0.5\n",
    "\n",
    "def apply_noise(particles):\n",
    "    # create noise at one column at atime\n",
    "    noise = np.concatenate(\n",
    "    (\n",
    "       np.random.normal(0.0, POS_SIGMA, (NUM_PARTICLES, 1)),\n",
    "       np.random.normal(0.0, POS_SIGMA, (NUM_PARTICLES, 1)),\n",
    "       np.random.normal(0.0, VEL_SIGMA, (NUM_PARTICLES, 1)),\n",
    "       np.random.normal(0.0, VEL_SIGMA, (NUM_PARTICLES, 1)),                                  \n",
    "    ),\n",
    "    axis=1)\n",
    "    particles += noise\n",
    "    \n",
    "    return particles"
   ]
  },
  {
   "cell_type": "markdown",
   "metadata": {},
   "source": [
    "Display the video frames"
   ]
  },
  {
   "cell_type": "code",
   "execution_count": 87,
   "metadata": {},
   "outputs": [],
   "source": [
    "def display(frame, particles, location):\n",
    "    if len(particles) > 0:  # check if there are any particles to display\n",
    "        for i in range(NUM_PARTICLES):  # iterate through them\n",
    "            x = int(particles[i,0])   # cast them into intgers: use the values as pixels coordinates\n",
    "            y = int(particles[i,1])  # similarly for the y values  \n",
    "            cv2.circle(frame, (x,y), 1, (0,255,1), 1) # draw particles as tiny circle on top of video frame\n",
    "            # use circle function(frame, circle center, radius, color: bgr not rgb green, set small 1 pixel)\n",
    "    if len(location) > 0: # location is our best guest where a target is\n",
    "        cv2.circle(frame, location, 15, (0,0,255), 5) \n",
    "            # slightly larger radius:15, and red color\n",
    "    cv2.imshow('frame', frame) # display the video frame\n",
    "    if cv2.waitKey(30)== 27:   # wait 30 ms to see if the user hit escape key\n",
    "        if cv2.waitKey(0) == 27: # pause there\n",
    "            return True # playback should stop if the user hit the escape key twice\n",
    "    return False"
   ]
  },
  {
   "cell_type": "markdown",
   "metadata": {},
   "source": [
    "Main routine"
   ]
  },
  {
   "cell_type": "code",
   "execution_count": 88,
   "metadata": {},
   "outputs": [
    {
     "name": "stdout",
     "output_type": "stream",
     "text": [
      "[[ 3.96243350e+02  2.90366883e+02  5.13816880e-02  2.24415915e-02]\n",
      " [ 3.05878765e+02  2.62233010e+02 -3.12063944e-02  1.95886500e-01]\n",
      " [ 6.95764513e+02  1.55677257e+02  1.45862519e-01  1.44474599e-02]\n",
      " [ 4.10128173e+02  3.75792235e+02 -2.14481971e-01 -2.06435350e-01]\n",
      " [ 1.45976830e+01  3.38043657e+02  1.39078375e-01  1.85006074e-01]\n",
      " [ 7.06562443e+02  3.24458377e+02 -1.92603189e-02  1.40264588e-01]\n",
      " [ 8.53941355e+01  2.59807935e+02 -1.78323356e-01  2.22334459e-01]\n",
      " [ 3.76774488e+02  1.68352748e+02 -1.17722194e-01  1.37116845e-01]\n",
      " [ 3.29340540e+02  2.30784183e+02 -2.40605100e-01  5.88177485e-02]\n",
      " [ 4.41933112e+02  2.50475203e+02  2.21874039e-01  9.09101496e-02]\n",
      " [ 2.59564704e+02  1.77434973e+02  9.88155980e-02 -2.19887264e-01]\n",
      " [ 4.81405569e+02  2.72278975e+02 -1.44808719e-01 -1.85536851e-01]\n",
      " [ 2.27739269e+02  1.47666573e+02  3.50983852e-02 -3.06992433e-02]\n",
      " [ 7.13605911e+02  4.14301932e+01 -1.45561622e-01 -1.69345241e-01]\n",
      " [ 4.71544211e+02  1.02836391e+02 -1.68446136e-02 -1.27787204e-01]\n",
      " [ 1.14776039e+02  4.48123073e+01  7.81647947e-02 -1.80908524e-01]\n",
      " [ 1.41932465e+02  1.49702419e+02  1.60496615e-01 -2.01449362e-01]\n",
      " [ 6.04996223e+02  3.90159536e+01  2.38229733e-01 -1.56743992e-02]\n",
      " [ 7.05221506e+02  2.45567281e+02  1.19631790e-01 -2.30406104e-01]\n",
      " [ 2.04186627e+02  4.87998039e+01 -1.01929901e-01 -1.90636141e-01]]\n"
     ]
    }
   ],
   "source": [
    "particles = initialize_particles()\n",
    "\n",
    "for frame in get_frames(VFILENAME):\n",
    "    if frame is None: break\n",
    "\n",
    "    particles = apply_velocity(particles)\n",
    "    particles = enforce_edges(particles)\n",
    "    errors = compute_errors(particles, frame)\n",
    "    weights = compute_weights(errors)\n",
    "    particles, location = resample(particles, weights)\n",
    "    particles = apply_noise(particles)\n",
    "    terminate = display(frame, particles, location)\n",
    "    if terminate:\n",
    "        break\n",
    "cv2.destroyAllWindows()\n"
   ]
  },
  {
   "cell_type": "code",
   "execution_count": null,
   "metadata": {},
   "outputs": [],
   "source": []
  }
 ],
 "metadata": {
  "kernelspec": {
   "display_name": "Python 3 (ipykernel)",
   "language": "python",
   "name": "python3"
  },
  "language_info": {
   "codemirror_mode": {
    "name": "ipython",
    "version": 3
   },
   "file_extension": ".py",
   "mimetype": "text/x-python",
   "name": "python",
   "nbconvert_exporter": "python",
   "pygments_lexer": "ipython3",
   "version": "3.9.7"
  }
 },
 "nbformat": 4,
 "nbformat_minor": 4
}
